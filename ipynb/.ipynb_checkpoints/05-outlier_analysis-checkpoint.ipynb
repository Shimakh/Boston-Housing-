{
 "cells": [
  {
   "cell_type": "markdown",
   "metadata": {},
   "source": [
    "# Identifying and Removing Outliers"
   ]
  },
  {
   "cell_type": "markdown",
   "metadata": {},
   "source": [
    "To identify outliers in the data, we will use what is the Tukey Method"
   ]
  },
  {
   "cell_type": "code",
   "execution_count": 17,
   "metadata": {},
   "outputs": [],
   "source": [
    "import pandas as pd\n",
    "import numpy as np"
   ]
  },
  {
   "cell_type": "code",
   "execution_count": 18,
   "metadata": {},
   "outputs": [],
   "source": [
    "data_box_set = pd.read_pickle('final_box_cox_sc.p')"
   ]
  },
  {
   "cell_type": "code",
   "execution_count": 19,
   "metadata": {},
   "outputs": [],
   "source": [
    "def display_outliers(dataframe, col, param=1.5):\n",
    "    Q1 = np.percentile(dataframe[col], 25)\n",
    "    Q3 = np.percentile(dataframe[col], 75)\n",
    "    tukey_window = param*(Q3-Q1)\n",
    "    less_than_Q1 = dataframe[col] < Q1 - tukey_window\n",
    "    greater_than_Q3 = dataframe[col] > Q3 + tukey_window\n",
    "    tukey_mask = (less_than_Q1 | greater_than_Q3)\n",
    "    return dataframe[tukey_mask]"
   ]
  },
  {
   "cell_type": "code",
   "execution_count": 20,
   "metadata": {},
   "outputs": [
    {
     "name": "stdout",
     "output_type": "stream",
     "text": [
      "CRIM (0, 12)\n",
      "INDUS (0, 12)\n",
      "NOX (0, 12)\n",
      "RM (26, 12)\n",
      "AGE (0, 12)\n",
      "DIS (0, 12)\n",
      "RAD (0, 12)\n",
      "TAX (0, 12)\n",
      "PTRATIO (0, 12)\n",
      "B (70, 12)\n",
      "LSTAT (0, 12)\n",
      "MEDV (50, 12)\n"
     ]
    }
   ],
   "source": [
    "for col in data_box_set:\n",
    "    print(col, display_outliers(data_box_set, col).shape)"
   ]
  },
  {
   "cell_type": "code",
   "execution_count": 30,
   "metadata": {},
   "outputs": [],
   "source": [
    "from collections import Counter"
   ]
  },
  {
   "cell_type": "code",
   "execution_count": 31,
   "metadata": {},
   "outputs": [],
   "source": [
    "raw_outliers = []\n",
    "for col in data_box_set:\n",
    "    outlier_df = display_outliers(data_box_set, col)\n",
    "    raw_outliers += list(outlier_df.index)"
   ]
  },
  {
   "cell_type": "code",
   "execution_count": 32,
   "metadata": {},
   "outputs": [],
   "source": [
    "outlier_count = Counter(raw_outliers)\n",
    "outliers = [k for k,v in outlier_count.items() if v > 1]"
   ]
  },
  {
   "cell_type": "code",
   "execution_count": 33,
   "metadata": {},
   "outputs": [
    {
     "data": {
      "text/plain": [
       "27"
      ]
     },
     "execution_count": 33,
     "metadata": {},
     "output_type": "execute_result"
    }
   ],
   "source": [
    "len(outliers)"
   ]
  },
  {
   "cell_type": "code",
   "execution_count": 34,
   "metadata": {},
   "outputs": [],
   "source": [
    "outlier_count = Counter(raw_outliers)\n",
    "outliers = [k for k,v in outlier_count.items() if v > 2]"
   ]
  },
  {
   "cell_type": "code",
   "execution_count": 35,
   "metadata": {},
   "outputs": [
    {
     "data": {
      "text/plain": [
       "2"
      ]
     },
     "execution_count": 35,
     "metadata": {},
     "output_type": "execute_result"
    }
   ],
   "source": [
    "len(outliers)"
   ]
  },
  {
   "cell_type": "code",
   "execution_count": 36,
   "metadata": {},
   "outputs": [
    {
     "data": {
      "text/plain": [
       "dict_items([(97, 1), (163, 2), (166, 2), (186, 2), (195, 2), (203, 2), (204, 2), (224, 2), (225, 2), (226, 1), (232, 1), (233, 2), (253, 2), (257, 2), (262, 2), (267, 2), (283, 2), (364, 1), (365, 1), (367, 2), (374, 1), (384, 3), (386, 1), (406, 1), (412, 2), (414, 3), (18, 1), (25, 1), (27, 1), (32, 1), (34, 1), (102, 1), (134, 1), (145, 1), (146, 1), (153, 1), (154, 1), (155, 1), (156, 1), (165, 1), (167, 1), (168, 1), (169, 1), (170, 1), (366, 1), (404, 2), (407, 1), (408, 1), (409, 1), (410, 1), (411, 1), (413, 1), (415, 2), (416, 2), (417, 1), (418, 2), (419, 2), (420, 1), (421, 1), (422, 1), (423, 1), (424, 1), (425, 2), (426, 1), (427, 1), (428, 1), (429, 1), (430, 1), (431, 1), (432, 1), (433, 1), (434, 1), (435, 1), (436, 1), (437, 2), (438, 2), (444, 1), (445, 1), (446, 1), (449, 1), (450, 1), (454, 1), (455, 1), (456, 1), (457, 1), (458, 1), (460, 1), (465, 1), (466, 1), (467, 1), (475, 1), (490, 2), (98, 1), (161, 1), (162, 1), (202, 1), (228, 1), (256, 1), (261, 1), (268, 1), (280, 1), (282, 1), (368, 1), (369, 1), (370, 1), (371, 1), (372, 1), (385, 1), (387, 1), (397, 1), (398, 1), (399, 1), (400, 1), (401, 1), (403, 1), (405, 1), (489, 1)])"
      ]
     },
     "execution_count": 36,
     "metadata": {},
     "output_type": "execute_result"
    }
   ],
   "source": [
    "outlier_count.items()"
   ]
  },
  {
   "cell_type": "code",
   "execution_count": 37,
   "metadata": {},
   "outputs": [
    {
     "data": {
      "text/plain": [
       "Counter({18: 1,\n",
       "         25: 1,\n",
       "         27: 1,\n",
       "         32: 1,\n",
       "         34: 1,\n",
       "         97: 1,\n",
       "         98: 1,\n",
       "         102: 1,\n",
       "         134: 1,\n",
       "         145: 1,\n",
       "         146: 1,\n",
       "         153: 1,\n",
       "         154: 1,\n",
       "         155: 1,\n",
       "         156: 1,\n",
       "         161: 1,\n",
       "         162: 1,\n",
       "         163: 2,\n",
       "         165: 1,\n",
       "         166: 2,\n",
       "         167: 1,\n",
       "         168: 1,\n",
       "         169: 1,\n",
       "         170: 1,\n",
       "         186: 2,\n",
       "         195: 2,\n",
       "         202: 1,\n",
       "         203: 2,\n",
       "         204: 2,\n",
       "         224: 2,\n",
       "         225: 2,\n",
       "         226: 1,\n",
       "         228: 1,\n",
       "         232: 1,\n",
       "         233: 2,\n",
       "         253: 2,\n",
       "         256: 1,\n",
       "         257: 2,\n",
       "         261: 1,\n",
       "         262: 2,\n",
       "         267: 2,\n",
       "         268: 1,\n",
       "         280: 1,\n",
       "         282: 1,\n",
       "         283: 2,\n",
       "         364: 1,\n",
       "         365: 1,\n",
       "         366: 1,\n",
       "         367: 2,\n",
       "         368: 1,\n",
       "         369: 1,\n",
       "         370: 1,\n",
       "         371: 1,\n",
       "         372: 1,\n",
       "         374: 1,\n",
       "         384: 3,\n",
       "         385: 1,\n",
       "         386: 1,\n",
       "         387: 1,\n",
       "         397: 1,\n",
       "         398: 1,\n",
       "         399: 1,\n",
       "         400: 1,\n",
       "         401: 1,\n",
       "         403: 1,\n",
       "         404: 2,\n",
       "         405: 1,\n",
       "         406: 1,\n",
       "         407: 1,\n",
       "         408: 1,\n",
       "         409: 1,\n",
       "         410: 1,\n",
       "         411: 1,\n",
       "         412: 2,\n",
       "         413: 1,\n",
       "         414: 3,\n",
       "         415: 2,\n",
       "         416: 2,\n",
       "         417: 1,\n",
       "         418: 2,\n",
       "         419: 2,\n",
       "         420: 1,\n",
       "         421: 1,\n",
       "         422: 1,\n",
       "         423: 1,\n",
       "         424: 1,\n",
       "         425: 2,\n",
       "         426: 1,\n",
       "         427: 1,\n",
       "         428: 1,\n",
       "         429: 1,\n",
       "         430: 1,\n",
       "         431: 1,\n",
       "         432: 1,\n",
       "         433: 1,\n",
       "         434: 1,\n",
       "         435: 1,\n",
       "         436: 1,\n",
       "         437: 2,\n",
       "         438: 2,\n",
       "         444: 1,\n",
       "         445: 1,\n",
       "         446: 1,\n",
       "         449: 1,\n",
       "         450: 1,\n",
       "         454: 1,\n",
       "         455: 1,\n",
       "         456: 1,\n",
       "         457: 1,\n",
       "         458: 1,\n",
       "         460: 1,\n",
       "         465: 1,\n",
       "         466: 1,\n",
       "         467: 1,\n",
       "         475: 1,\n",
       "         489: 1,\n",
       "         490: 2})"
      ]
     },
     "execution_count": 37,
     "metadata": {},
     "output_type": "execute_result"
    }
   ],
   "source": [
    "outlier_count"
   ]
  },
  {
   "cell_type": "markdown",
   "metadata": {},
   "source": [
    "We can definitley remove the rows with more than 1 outlier"
   ]
  },
  {
   "cell_type": "code",
   "execution_count": null,
   "metadata": {},
   "outputs": [],
   "source": []
  }
 ],
 "metadata": {
  "kernelspec": {
   "display_name": "Python 3",
   "language": "python",
   "name": "python3"
  },
  "language_info": {
   "codemirror_mode": {
    "name": "ipython",
    "version": 3
   },
   "file_extension": ".py",
   "mimetype": "text/x-python",
   "name": "python",
   "nbconvert_exporter": "python",
   "pygments_lexer": "ipython3",
   "version": "3.6.4"
  }
 },
 "nbformat": 4,
 "nbformat_minor": 2
}
